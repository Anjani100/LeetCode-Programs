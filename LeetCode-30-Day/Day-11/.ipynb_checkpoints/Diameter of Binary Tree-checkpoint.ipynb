{
 "cells": [
  {
   "cell_type": "code",
   "execution_count": 7,
   "metadata": {},
   "outputs": [
    {
     "name": "stdout",
     "output_type": "stream",
     "text": [
      "6\n"
     ]
    }
   ],
   "source": [
    "class Node: \n",
    "  \n",
    "    def __init__(self, data): \n",
    "        self.data = data \n",
    "        self.left = None\n",
    "        self.right = None\n",
    "        \n",
    "        \n",
    "class Solution:\n",
    "    def diameterOfBinaryTree(self, root: Node) -> int:\n",
    "        if root is None: \n",
    "            return 0\n",
    "\n",
    "        lheight = Solution.height(root.left) \n",
    "        rheight = Solution.height(root.right) \n",
    "\n",
    "        ldiameter = Solution.diameterOfBinaryTree(self, root.left) \n",
    "        rdiameter = Solution.diameterOfBinaryTree(self, root.right) \n",
    "\n",
    "        return max(lheight + rheight, max(ldiameter, rdiameter)) \n",
    "    \n",
    "    def height(node): \n",
    "        if node is None: \n",
    "            return 0\n",
    "        return 1 + max(Solution.height(node.left), Solution.height(node.right)) \n",
    "    \n",
    "root = Node(1) \n",
    "root.left = Node(2) \n",
    "root.right = Node(3) \n",
    "root.left.left = Node(4)\n",
    "root.left.left.left = Node(6)\n",
    "root.left.left.left.left = Node(7)\n",
    "root.left.right = Node(5)\n",
    "\n",
    "s = Solution()\n",
    "d = s.diameterOfBinaryTree(root)\n",
    "print(d)"
   ]
  },
  {
   "cell_type": "code",
   "execution_count": null,
   "metadata": {},
   "outputs": [],
   "source": []
  }
 ],
 "metadata": {
  "kernelspec": {
   "display_name": "Python 3",
   "language": "python",
   "name": "python3"
  },
  "language_info": {
   "codemirror_mode": {
    "name": "ipython",
    "version": 3
   },
   "file_extension": ".py",
   "mimetype": "text/x-python",
   "name": "python",
   "nbconvert_exporter": "python",
   "pygments_lexer": "ipython3",
   "version": "3.6.8"
  }
 },
 "nbformat": 4,
 "nbformat_minor": 2
}
