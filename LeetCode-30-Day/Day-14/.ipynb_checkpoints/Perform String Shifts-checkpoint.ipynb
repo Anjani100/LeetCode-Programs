{
 "cells": [
  {
   "cell_type": "code",
   "execution_count": 10,
   "metadata": {},
   "outputs": [
    {
     "name": "stdout",
     "output_type": "stream",
     "text": [
      "abcdefg\n",
      "efgabcd\n"
     ]
    }
   ],
   "source": [
    "s = input()\n",
    "shift = [[1,1],[1,1],[0,2],[1,3]]\n",
    "l = list(s)\n",
    "\n",
    "for i in shift:\n",
    "    sh = i[0]\n",
    "    n = i[1]\n",
    "    while(n > 0):\n",
    "        if(sh == 0):\n",
    "            a = l.pop(0)\n",
    "            l.append(a)\n",
    "        else:\n",
    "            a = l.pop()\n",
    "            l.reverse()\n",
    "            l.append(a)\n",
    "            l.reverse()\n",
    "        n -= 1\n",
    "\n",
    "s = \"\"\n",
    "s = s.join(l)\n",
    "print(s)"
   ]
  },
  {
   "cell_type": "code",
   "execution_count": 6,
   "metadata": {},
   "outputs": [
    {
     "name": "stdout",
     "output_type": "stream",
     "text": [
      "[2, 1]\n"
     ]
    }
   ],
   "source": [
    "a = [1, 2]\n",
    "a.reverse()\n",
    "print(a)"
   ]
  },
  {
   "cell_type": "code",
   "execution_count": null,
   "metadata": {},
   "outputs": [],
   "source": []
  }
 ],
 "metadata": {
  "kernelspec": {
   "display_name": "Python 3",
   "language": "python",
   "name": "python3"
  },
  "language_info": {
   "codemirror_mode": {
    "name": "ipython",
    "version": 3
   },
   "file_extension": ".py",
   "mimetype": "text/x-python",
   "name": "python",
   "nbconvert_exporter": "python",
   "pygments_lexer": "ipython3",
   "version": "3.6.8"
  }
 },
 "nbformat": 4,
 "nbformat_minor": 2
}
