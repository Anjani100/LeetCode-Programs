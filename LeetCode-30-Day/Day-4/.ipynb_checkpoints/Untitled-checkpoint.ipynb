{
 "cells": [
  {
   "cell_type": "code",
   "execution_count": null,
   "metadata": {},
   "outputs": [],
   "source": [
    "nums = [int(i) for i in input().split()]\n",
    "\n",
    "count = 0\n",
    "i = 0\n",
    "while (i < len(nums)):\n",
    "    if(nums[i] == 0):\n",
    "        nums.pop(i)\n",
    "        i -= 1\n",
    "        count += 1\n",
    "    i += 1\n",
    "while(count > 0):\n",
    "    nums.append(0)\n",
    "    count -= 1"
   ]
  }
 ],
 "metadata": {
  "kernelspec": {
   "display_name": "Python 3",
   "language": "python",
   "name": "python3"
  },
  "language_info": {
   "codemirror_mode": {
    "name": "ipython",
    "version": 3
   },
   "file_extension": ".py",
   "mimetype": "text/x-python",
   "name": "python",
   "nbconvert_exporter": "python",
   "pygments_lexer": "ipython3",
   "version": "3.6.8"
  }
 },
 "nbformat": 4,
 "nbformat_minor": 2
}
