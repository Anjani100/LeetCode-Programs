{
 "cells": [
  {
   "cell_type": "code",
   "execution_count": 15,
   "metadata": {},
   "outputs": [
    {
     "name": "stdout",
     "output_type": "stream",
     "text": [
      "a#c\n",
      "b\n",
      "['c'] ['b']\n",
      "False\n"
     ]
    }
   ],
   "source": [
    "s = input()\n",
    "t = input()\n",
    "i = 0\n",
    "s = list(s)\n",
    "t = list(t)\n",
    "\n",
    "while(i < len(s)):\n",
    "    try:\n",
    "        if(s[i] == '#'):\n",
    "            s.pop(i)\n",
    "            if(i > 0):\n",
    "                s.pop(i - 1)\n",
    "            i -= 2\n",
    "        i += 1\n",
    "    except Exception as e:\n",
    "        i += 1\n",
    "\n",
    "i = 0\n",
    "while(i < len(t)):\n",
    "    try:\n",
    "        if(t[i] == '#'):\n",
    "            t.pop(i)\n",
    "            if(i > 0):\n",
    "                t.pop(i - 1)\n",
    "            i -= 2\n",
    "        i += 1\n",
    "    except Exception as e:\n",
    "        i += 1\n",
    "\n",
    "if(s == t):\n",
    "    print('True')\n",
    "else:\n",
    "    print('False')"
   ]
  },
  {
   "cell_type": "code",
   "execution_count": null,
   "metadata": {},
   "outputs": [],
   "source": []
  }
 ],
 "metadata": {
  "kernelspec": {
   "display_name": "Python 3",
   "language": "python",
   "name": "python3"
  },
  "language_info": {
   "codemirror_mode": {
    "name": "ipython",
    "version": 3
   },
   "file_extension": ".py",
   "mimetype": "text/x-python",
   "name": "python",
   "nbconvert_exporter": "python",
   "pygments_lexer": "ipython3",
   "version": "3.6.8"
  }
 },
 "nbformat": 4,
 "nbformat_minor": 2
}
