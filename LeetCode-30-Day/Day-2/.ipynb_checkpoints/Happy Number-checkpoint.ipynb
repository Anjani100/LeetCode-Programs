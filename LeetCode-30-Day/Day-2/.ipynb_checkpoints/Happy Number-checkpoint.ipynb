{
 "cells": [
  {
   "cell_type": "code",
   "execution_count": null,
   "metadata": {},
   "outputs": [],
   "source": [
    "n = int(input())\n",
    "s = str(n)\n",
    "\n",
    "while True:\n",
    "    sum1 = 0\n",
    "    sum1 = sum([int(i)**2 for i in str(s)])\n",
    "    print(sum1)\n",
    "    if(sum1 == 1):\n",
    "        print('true')\n",
    "        break\n",
    "    elif(sum1 == 4):\n",
    "        print('false')\n",
    "        break\n",
    "    else:\n",
    "        s = str(sum1)"
   ]
  },
  {
   "cell_type": "code",
   "execution_count": null,
   "metadata": {},
   "outputs": [],
   "source": [
    "n = int(input())\n",
    "while n != 1:\n",
    "    n = sum([int(i) ** 2 for i in str(n)])\n",
    "    if n == 4:\n",
    "        return False\n",
    "\n",
    "return True"
   ]
  },
  {
   "cell_type": "code",
   "execution_count": null,
   "metadata": {},
   "outputs": [],
   "source": []
  }
 ],
 "metadata": {
  "kernelspec": {
   "display_name": "Python 3",
   "language": "python",
   "name": "python3"
  },
  "language_info": {
   "codemirror_mode": {
    "name": "ipython",
    "version": 3
   },
   "file_extension": ".py",
   "mimetype": "text/x-python",
   "name": "python",
   "nbconvert_exporter": "python",
   "pygments_lexer": "ipython3",
   "version": "3.6.8"
  }
 },
 "nbformat": 4,
 "nbformat_minor": 2
}
