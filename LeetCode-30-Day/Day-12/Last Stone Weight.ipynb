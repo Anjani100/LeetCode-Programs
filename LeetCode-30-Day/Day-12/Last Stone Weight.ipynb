{
 "cells": [
  {
   "cell_type": "code",
   "execution_count": 15,
   "metadata": {},
   "outputs": [
    {
     "name": "stdout",
     "output_type": "stream",
     "text": [
      "2 7 4 1 8 1\n",
      "[1]\n"
     ]
    }
   ],
   "source": [
    "stones = [int(i) for i in input().split()]\n",
    "i = 0\n",
    "\n",
    "while(i < len(stones) - 1):\n",
    "    stones.sort(reverse = True)\n",
    "    if(stones[i] < stones[i + 1]):\n",
    "        stones[i + 1] -= stones[i]\n",
    "        stones.pop(i)\n",
    "        i -= 1\n",
    "    elif(stones[i] > stones[i + 1]):\n",
    "        stones[i] -= stones[i + 1]\n",
    "        stones.pop(i + 1)\n",
    "        i -= 1\n",
    "    else:\n",
    "        stones.pop(i)\n",
    "        stones.pop(i)\n",
    "        i -= 1\n",
    "    #print(stones)\n",
    "    i += 1\n",
    "print(stones)"
   ]
  },
  {
   "cell_type": "code",
   "execution_count": null,
   "metadata": {},
   "outputs": [],
   "source": []
  }
 ],
 "metadata": {
  "kernelspec": {
   "display_name": "Python 3",
   "language": "python",
   "name": "python3"
  },
  "language_info": {
   "codemirror_mode": {
    "name": "ipython",
    "version": 3
   },
   "file_extension": ".py",
   "mimetype": "text/x-python",
   "name": "python",
   "nbconvert_exporter": "python",
   "pygments_lexer": "ipython3",
   "version": "3.6.8"
  }
 },
 "nbformat": 4,
 "nbformat_minor": 2
}
