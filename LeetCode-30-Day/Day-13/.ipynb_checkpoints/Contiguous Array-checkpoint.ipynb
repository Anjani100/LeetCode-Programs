{
 "cells": [
  {
   "cell_type": "code",
   "execution_count": null,
   "metadata": {},
   "outputs": [],
   "source": [
    "nums = [int(i) for i in input().split()]\n",
    "i = 0\n",
    "p = []\n",
    "while(i < len(nums)):\n",
    "    j = i\n",
    "    s = [nums[i]]\n",
    "    while(j < len(nums) - 1):\n",
    "        s.append(nums[j + 1])\n",
    "        j += 1\n",
    "    if(s.count(0) != s.count(1)):\n",
    "        s.pop()\n",
    "    if(len(s) > len(p)):\n",
    "        p = s\n",
    "    i += 1\n",
    "print(p)"
   ]
  },
  {
   "cell_type": "code",
   "execution_count": null,
   "metadata": {},
   "outputs": [],
   "source": [
    "a = [1, 0, 1, 1, 0]\n",
    "a.count(1)"
   ]
  },
  {
   "cell_type": "code",
   "execution_count": 7,
   "metadata": {},
   "outputs": [
    {
     "name": "stdout",
     "output_type": "stream",
     "text": [
      "[0, 1] [0, 1]\n"
     ]
    }
   ],
   "source": [
    "c = list(nums)\n",
    "print(c, nums)"
   ]
  },
  {
   "cell_type": "code",
   "execution_count": null,
   "metadata": {},
   "outputs": [],
   "source": [
    "c,d,m = 0,{0:0},0\n",
    "for i,v in enumerate(nums):\n",
    "    c += 2*v -1\n",
    "    if c in d:\n",
    "        m = max(m,i+1-d[c])\n",
    "    else:\n",
    "        d[c] = i+1                \n",
    "print(m)"
   ]
  }
 ],
 "metadata": {
  "kernelspec": {
   "display_name": "Python 3",
   "language": "python",
   "name": "python3"
  },
  "language_info": {
   "codemirror_mode": {
    "name": "ipython",
    "version": 3
   },
   "file_extension": ".py",
   "mimetype": "text/x-python",
   "name": "python",
   "nbconvert_exporter": "python",
   "pygments_lexer": "ipython3",
   "version": "3.6.8"
  }
 },
 "nbformat": 4,
 "nbformat_minor": 2
}
