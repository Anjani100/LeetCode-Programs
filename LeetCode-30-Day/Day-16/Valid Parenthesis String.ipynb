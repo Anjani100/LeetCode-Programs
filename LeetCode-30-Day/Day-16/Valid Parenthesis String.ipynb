{
 "cells": [
  {
   "cell_type": "code",
   "execution_count": 4,
   "metadata": {},
   "outputs": [
    {
     "name": "stdout",
     "output_type": "stream",
     "text": [
      "(()\n",
      "['(']\n"
     ]
    }
   ],
   "source": [
    "s = input()\n",
    "s = list(s)\n",
    "i = 0\n",
    "\n",
    "while(i < len(s)):\n",
    "    if(s[i] == '('):\n",
    "        j = i + 1\n",
    "        while(j < len(s)):\n",
    "            if(s[j] == ')'):\n",
    "                s.pop(i)\n",
    "                s.pop(j - 1)\n",
    "                j -= 1\n",
    "                i -= 1\n",
    "            j += 1\n",
    "    i += 1\n",
    "print(s)"
   ]
  },
  {
   "cell_type": "code",
   "execution_count": null,
   "metadata": {},
   "outputs": [],
   "source": []
  }
 ],
 "metadata": {
  "kernelspec": {
   "display_name": "Python 3",
   "language": "python",
   "name": "python3"
  },
  "language_info": {
   "codemirror_mode": {
    "name": "ipython",
    "version": 3
   },
   "file_extension": ".py",
   "mimetype": "text/x-python",
   "name": "python",
   "nbconvert_exporter": "python",
   "pygments_lexer": "ipython3",
   "version": "3.6.8"
  }
 },
 "nbformat": 4,
 "nbformat_minor": 2
}
