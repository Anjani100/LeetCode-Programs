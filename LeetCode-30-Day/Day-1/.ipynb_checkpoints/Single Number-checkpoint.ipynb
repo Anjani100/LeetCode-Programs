{
 "cells": [
  {
   "cell_type": "code",
   "execution_count": 10,
   "metadata": {},
   "outputs": [
    {
     "name": "stdout",
     "output_type": "stream",
     "text": [
      "1 4 2 1 2\n",
      "{1: 2, 4: 1, 2: 2}\n",
      "4\n"
     ]
    }
   ],
   "source": [
    "list = [int(i) for i in input().split()]\n",
    "\n",
    "dict = {}\n",
    "\n",
    "for i in list:\n",
    "    try:\n",
    "        if(dict[i]):\n",
    "            dict[i] += 1\n",
    "    except Exception as e:\n",
    "        dict[i] = 1\n",
    "print(dict)\n",
    "for i in dict:\n",
    "    if(dict[i] == 1):\n",
    "        print(i)"
   ]
  },
  {
   "cell_type": "code",
   "execution_count": 11,
   "metadata": {},
   "outputs": [
    {
     "ename": "IndentationError",
     "evalue": "unexpected indent (<ipython-input-11-b941ee7e7dfb>, line 3)",
     "output_type": "error",
     "traceback": [
      "\u001b[1;36m  File \u001b[1;32m\"<ipython-input-11-b941ee7e7dfb>\"\u001b[1;36m, line \u001b[1;32m3\u001b[0m\n\u001b[1;33m    for i in nums:\u001b[0m\n\u001b[1;37m    ^\u001b[0m\n\u001b[1;31mIndentationError\u001b[0m\u001b[1;31m:\u001b[0m unexpected indent\n"
     ]
    }
   ],
   "source": [
    "dict = {}\n",
    "\n",
    "        for i in nums:\n",
    "            try:\n",
    "                if(dict[i]):\n",
    "                    dict[i] += 1\n",
    "            except Exception as e:\n",
    "                dict[i] = 1\n",
    "        # print(dict)\n",
    "        for i in dict:\n",
    "            if(dict[i] == 1):\n",
    "                # print(i)\n",
    "                return i"
   ]
  },
  {
   "cell_type": "code",
   "execution_count": 18,
   "metadata": {},
   "outputs": [
    {
     "name": "stdout",
     "output_type": "stream",
     "text": [
      "2 2 1\n",
      "2 2\n",
      "2 2\n",
      "2 1\n",
      "2 1\n",
      "2\n"
     ]
    }
   ],
   "source": [
    "nums = [int(i) for i in input().split()]\n",
    "for i in nums:\n",
    "    "
   ]
  },
  {
   "cell_type": "code",
   "execution_count": null,
   "metadata": {},
   "outputs": [],
   "source": []
  }
 ],
 "metadata": {
  "kernelspec": {
   "display_name": "Python 3",
   "language": "python",
   "name": "python3"
  },
  "language_info": {
   "codemirror_mode": {
    "name": "ipython",
    "version": 3
   },
   "file_extension": ".py",
   "mimetype": "text/x-python",
   "name": "python",
   "nbconvert_exporter": "python",
   "pygments_lexer": "ipython3",
   "version": "3.6.8"
  }
 },
 "nbformat": 4,
 "nbformat_minor": 2
}
