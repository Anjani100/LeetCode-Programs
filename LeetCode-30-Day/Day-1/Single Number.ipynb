{
 "cells": [
  {
   "cell_type": "code",
   "execution_count": 10,
   "metadata": {},
   "outputs": [
    {
     "name": "stdout",
     "output_type": "stream",
     "text": [
      "1 4 2 1 2\n",
      "{1: 2, 4: 1, 2: 2}\n",
      "4\n"
     ]
    }
   ],
   "source": [
    "list = [int(i) for i in input().split()]\n",
    "\n",
    "dict = {}\n",
    "\n",
    "for i in list:\n",
    "    try:\n",
    "        if(dict[i]):\n",
    "            dict[i] += 1\n",
    "    except Exception as e:\n",
    "        dict[i] = 1\n",
    "print(dict)\n",
    "for i in dict:\n",
    "    if(dict[i] == 1):\n",
    "        print(i)"
   ]
  },
  {
   "cell_type": "code",
   "execution_count": 19,
   "metadata": {},
   "outputs": [
    {
     "name": "stdout",
     "output_type": "stream",
     "text": [
      "1 4 2 1 2\n",
      "4\n"
     ]
    }
   ],
   "source": [
    "list = [int(i) for i in input().split()]\n",
    "print(2 * sum(set(list)) - sum(list))"
   ]
  },
  {
   "cell_type": "code",
   "execution_count": 18,
   "metadata": {},
   "outputs": [
    {
     "name": "stdout",
     "output_type": "stream",
     "text": [
      "2 2 1\n",
      "2 2\n",
      "2 2\n",
      "2 1\n",
      "2 1\n",
      "2\n"
     ]
    }
   ],
   "source": [
    "nums = [int(i) for i in input().split()]\n",
    "for i in nums:\n",
    "    if"
   ]
  },
  {
   "cell_type": "code",
   "execution_count": null,
   "metadata": {},
   "outputs": [],
   "source": []
  }
 ],
 "metadata": {
  "kernelspec": {
   "display_name": "Python 3",
   "language": "python",
   "name": "python3"
  },
  "language_info": {
   "codemirror_mode": {
    "name": "ipython",
    "version": 3
   },
   "file_extension": ".py",
   "mimetype": "text/x-python",
   "name": "python",
   "nbconvert_exporter": "python",
   "pygments_lexer": "ipython3",
   "version": "3.6.8"
  }
 },
 "nbformat": 4,
 "nbformat_minor": 2
}
