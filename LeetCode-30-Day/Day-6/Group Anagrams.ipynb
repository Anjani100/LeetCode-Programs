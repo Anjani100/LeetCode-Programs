{
 "cells": [
  {
   "cell_type": "code",
   "execution_count": 18,
   "metadata": {},
   "outputs": [
    {
     "name": "stdout",
     "output_type": "stream",
     "text": [
      "ate eat\n",
      "[['ate', 'eat']]\n"
     ]
    }
   ],
   "source": [
    "strs = [i for i in input().split()]\n",
    "i = 0\n",
    "r = []\n",
    "\n",
    "while(i < len(strs)):\n",
    "    j = i + 1\n",
    "    s = [strs[i]]\n",
    "    while(j < len(strs)):\n",
    "        flag = 0\n",
    "        if(len(strs[i]) == len(strs[j])):\n",
    "            p = list(strs[i])\n",
    "            q = list(strs[j])\n",
    "            k = 0\n",
    "            while(k < len(p)):\n",
    "                if p[k] in q:\n",
    "                    q.remove(p[k])\n",
    "                    p.remove(p[k])\n",
    "                    #print(p, q)\n",
    "                    k -= 1\n",
    "                k += 1\n",
    "            if(len(p) == 0 and len(q) == 0):\n",
    "                s.append(strs[j])\n",
    "                strs.pop(j)\n",
    "                j -= 1\n",
    "        j += 1\n",
    "    r.append(s)\n",
    "    i += 1\n",
    "print(r)"
   ]
  },
  {
   "cell_type": "code",
   "execution_count": 25,
   "metadata": {},
   "outputs": [
    {
     "name": "stdout",
     "output_type": "stream",
     "text": [
      "eta tea\n",
      "['aet', 'aet']\n"
     ]
    }
   ],
   "source": [
    "strs = [i for i in input().split()]\n",
    "s = []\n",
    "\n",
    "for i in range(len(strs)):\n",
    "    a = list(strs[i])\n",
    "    a.sort()\n",
    "    j = \"\"\n",
    "    j = j.join(a)\n",
    "    s.append(j)\n",
    "\n",
    "for i in range(len(s)):\n",
    "    a = [s[i]]\n",
    "    for j in"
   ]
  },
  {
   "cell_type": "code",
   "execution_count": null,
   "metadata": {},
   "outputs": [],
   "source": []
  }
 ],
 "metadata": {
  "kernelspec": {
   "display_name": "Python 3",
   "language": "python",
   "name": "python3"
  },
  "language_info": {
   "codemirror_mode": {
    "name": "ipython",
    "version": 3
   },
   "file_extension": ".py",
   "mimetype": "text/x-python",
   "name": "python",
   "nbconvert_exporter": "python",
   "pygments_lexer": "ipython3",
   "version": "3.6.8"
  }
 },
 "nbformat": 4,
 "nbformat_minor": 2
}
