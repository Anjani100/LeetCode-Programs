{
 "cells": [
  {
   "cell_type": "code",
   "execution_count": 28,
   "metadata": {},
   "outputs": [
    {
     "name": "stdout",
     "output_type": "stream",
     "text": [
      "1 1 2\n",
      "2\n"
     ]
    }
   ],
   "source": [
    "arr = [int(i) for i in input().split()]\n",
    "dic = {}\n",
    "\n",
    "arr = sorted(arr)\n",
    "\n",
    "for i in arr:\n",
    "    try:\n",
    "        if(dic[i]):\n",
    "            dic[i] += 1\n",
    "    except Exception as e:\n",
    "        dic[i] = 1\n",
    "#print(dic)\n",
    "count = 0\n",
    "s = []\n",
    "\n",
    "for i in dic:\n",
    "    s.append(i)\n",
    "\n",
    "for i in range(len(s) - 1):\n",
    "    if(s[i] == s[i + 1] - 1):\n",
    "        l = dic[s[i]]\n",
    "        #print(l)\n",
    "        count += l\n",
    "print(count)"
   ]
  },
  {
   "cell_type": "code",
   "execution_count": 10,
   "metadata": {},
   "outputs": [
    {
     "name": "stdout",
     "output_type": "stream",
     "text": [
      "{1: 2, 2: 1, 3: 1, 4: 1}\n"
     ]
    }
   ],
   "source": [
    "print(dic)"
   ]
  },
  {
   "cell_type": "code",
   "execution_count": 33,
   "metadata": {},
   "outputs": [
    {
     "name": "stdout",
     "output_type": "stream",
     "text": [
      "1 2 1 3\n",
      "Counter({1: 2, 2: 1, 3: 1})\n",
      "3\n"
     ]
    }
   ],
   "source": [
    "from collections import Counter\n",
    "arr = [int(i) for i in input().split()]\n",
    "C = Counter(arr)\n",
    "print(C)\n",
    "print(sum(C[x] for x in C if x+1 in C))"
   ]
  },
  {
   "cell_type": "code",
   "execution_count": null,
   "metadata": {},
   "outputs": [],
   "source": []
  }
 ],
 "metadata": {
  "kernelspec": {
   "display_name": "Python 3",
   "language": "python",
   "name": "python3"
  },
  "language_info": {
   "codemirror_mode": {
    "name": "ipython",
    "version": 3
   },
   "file_extension": ".py",
   "mimetype": "text/x-python",
   "name": "python",
   "nbconvert_exporter": "python",
   "pygments_lexer": "ipython3",
   "version": "3.6.8"
  }
 },
 "nbformat": 4,
 "nbformat_minor": 2
}
