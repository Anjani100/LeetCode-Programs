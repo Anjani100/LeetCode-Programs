{
 "cells": [
  {
   "cell_type": "code",
   "execution_count": 17,
   "metadata": {},
   "outputs": [
    {
     "name": "stdout",
     "output_type": "stream",
     "text": [
      "tea ate tan ant eat bat\n",
      "['e', 'a'] ['a', 'e']\n",
      "['a'] ['a']\n",
      "[] []\n",
      "['e', 'a'] ['a', 'n']\n",
      "['e'] ['n']\n",
      "['e', 'a'] ['a', 'n']\n",
      "['e'] ['n']\n",
      "['e', 'a'] ['e', 'a']\n",
      "['a'] ['a']\n",
      "[] []\n",
      "['e', 'a'] ['b', 'a']\n",
      "['e'] ['b']\n",
      "['a', 'n'] ['a', 'n']\n",
      "['n'] ['n']\n",
      "[] []\n",
      "['a', 'n'] ['b', 'a']\n",
      "['n'] ['b']\n",
      "[['tea', 'ate', 'eat'], ['tan', 'ant'], ['bat']]\n"
     ]
    }
   ],
   "source": [
    "strs = [i for i in input().split()]\n",
    "i = 0\n",
    "r = []\n",
    "\n",
    "while(i < len(strs)):\n",
    "    j = i + 1\n",
    "    s = [strs[i]]\n",
    "    while(j < len(strs)):\n",
    "        flag = 0\n",
    "        if(len(strs[i]) == len(strs[j])):\n",
    "            p = list(strs[i])\n",
    "            q = list(strs[j])\n",
    "            k = 0\n",
    "            while(k < len(p)):\n",
    "                if p[k] in q:\n",
    "                    q.remove(p[k])\n",
    "                    p.remove(p[k])\n",
    "                    #print(p, q)\n",
    "                    k -= 1\n",
    "                k += 1\n",
    "            if(len(p) == 0 and len(q) == 0):\n",
    "                s.append(strs[j])\n",
    "                strs.pop(j)\n",
    "                j -= 1\n",
    "        j += 1\n",
    "    r.append(s)\n",
    "    i += 1\n",
    "print(r)"
   ]
  },
  {
   "cell_type": "code",
   "execution_count": 6,
   "metadata": {},
   "outputs": [
    {
     "name": "stdout",
     "output_type": "stream",
     "text": [
      "[[\"hos\"],[\"boo\",\"bob\"],[\"nay\"],[\"deb\",\"deb\"],[\"wow\"],[\"bop\"],[\"brr\"],[\"hey\"],[\"rye\"],[\"eve\"],[\"elf\"],[\"pup\",\"pup\"],[\"bum\"],[\"iva\"],[\"lyx\"],[\"yap\"],[\"ugh\",\"ugh\"],[\"hem\"],[\"rod\"],[\"aha\"],[\"nam\"],[\"gap\"],[\"yea\"],[\"doc\"],[\"pen\"],[\"job\"],[\"dis\"],[\"max\"],[\"oho\"],[\"jed\"],[\"lye\"],[\"ram\"],[\"qua\"],[\"mir\"],[\"nap\"],[\"hog\"],[\"let\"],[\"gym\"],[\"bye\"],[\"lon\"],[\"aft\"],[\"eel\"],[\"sol\"],[\"jab\"]]\n"
     ]
    }
   ],
   "source": [
    "print('[[\"hos\"],[\"boo\",\"bob\"],[\"nay\"],[\"deb\",\"deb\"],[\"wow\"],[\"bop\"],[\"brr\"],[\"hey\"],[\"rye\"],[\"eve\"],[\"elf\"],[\"pup\",\"pup\"],[\"bum\"],[\"iva\"],[\"lyx\"],[\"yap\"],[\"ugh\",\"ugh\"],[\"hem\"],[\"rod\"],[\"aha\"],[\"nam\"],[\"gap\"],[\"yea\"],[\"doc\"],[\"pen\"],[\"job\"],[\"dis\"],[\"max\"],[\"oho\"],[\"jed\"],[\"lye\"],[\"ram\"],[\"qua\"],[\"mir\"],[\"nap\"],[\"hog\"],[\"let\"],[\"gym\"],[\"bye\"],[\"lon\"],[\"aft\"],[\"eel\"],[\"sol\"],[\"jab\"]]')"
   ]
  },
  {
   "cell_type": "code",
   "execution_count": 7,
   "metadata": {},
   "outputs": [
    {
     "name": "stdout",
     "output_type": "stream",
     "text": [
      "[[\"sol\"],[\"wow\"],[\"gap\"],[\"hem\"],[\"yap\"],[\"bum\"],[\"ugh\",\"ugh\"],[\"aha\"],[\"jab\"],[\"eve\"],[\"bop\"],[\"lyx\"],[\"jed\"],[\"iva\"],[\"rod\"],[\"boo\"],[\"brr\"],[\"hog\"],[\"nay\"],[\"mir\"],[\"deb\",\"deb\"],[\"aft\"],[\"dis\"],[\"yea\"],[\"hos\"],[\"rye\"],[\"hey\"],[\"doc\"],[\"bob\"],[\"eel\"],[\"pen\"],[\"job\"],[\"max\"],[\"oho\"],[\"lye\"],[\"ram\"],[\"nap\"],[\"elf\"],[\"qua\"],[\"pup\",\"pup\"],[\"let\"],[\"gym\"],[\"nam\"],[\"bye\"],[\"lon\"]]\n"
     ]
    }
   ],
   "source": [
    "print('[[\"sol\"],[\"wow\"],[\"gap\"],[\"hem\"],[\"yap\"],[\"bum\"],[\"ugh\",\"ugh\"],[\"aha\"],[\"jab\"],[\"eve\"],[\"bop\"],[\"lyx\"],[\"jed\"],[\"iva\"],[\"rod\"],[\"boo\"],[\"brr\"],[\"hog\"],[\"nay\"],[\"mir\"],[\"deb\",\"deb\"],[\"aft\"],[\"dis\"],[\"yea\"],[\"hos\"],[\"rye\"],[\"hey\"],[\"doc\"],[\"bob\"],[\"eel\"],[\"pen\"],[\"job\"],[\"max\"],[\"oho\"],[\"lye\"],[\"ram\"],[\"nap\"],[\"elf\"],[\"qua\"],[\"pup\",\"pup\"],[\"let\"],[\"gym\"],[\"nam\"],[\"bye\"],[\"lon\"]]')"
   ]
  },
  {
   "cell_type": "code",
   "execution_count": null,
   "metadata": {},
   "outputs": [],
   "source": []
  }
 ],
 "metadata": {
  "kernelspec": {
   "display_name": "Python 3",
   "language": "python",
   "name": "python3"
  },
  "language_info": {
   "codemirror_mode": {
    "name": "ipython",
    "version": 3
   },
   "file_extension": ".py",
   "mimetype": "text/x-python",
   "name": "python",
   "nbconvert_exporter": "python",
   "pygments_lexer": "ipython3",
   "version": "3.6.8"
  }
 },
 "nbformat": 4,
 "nbformat_minor": 2
}
