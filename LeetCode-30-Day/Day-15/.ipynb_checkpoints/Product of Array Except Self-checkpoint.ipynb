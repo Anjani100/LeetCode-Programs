{
 "cells": [
  {
   "cell_type": "code",
   "execution_count": 10,
   "metadata": {},
   "outputs": [
    {
     "name": "stdout",
     "output_type": "stream",
     "text": [
      "2 1 0 0 45\n",
      "[0, 0, 90, 90, 0]\n"
     ]
    }
   ],
   "source": [
    "nums = [int(i) for i in input().split()]\n",
    "product = nums[0]\n",
    "for i in range(1, len(nums)):\n",
    "    if(nums[i] == 0):\n",
    "        pass\n",
    "    else:\n",
    "        product *= nums[i]\n",
    "\n",
    "if 0 in nums:\n",
    "    product1 = product\n",
    "    product = 0\n",
    "a = []\n",
    "for i in nums:\n",
    "    try:\n",
    "        a.append(int(product/i))\n",
    "    except:\n",
    "        a.append(int(product1))\n",
    "print(a)"
   ]
  },
  {
   "cell_type": "code",
   "execution_count": 11,
   "metadata": {},
   "outputs": [
    {
     "name": "stdout",
     "output_type": "stream",
     "text": [
      "2\n"
     ]
    }
   ],
   "source": [
    "print(nums.count(0))"
   ]
  },
  {
   "cell_type": "code",
   "execution_count": null,
   "metadata": {},
   "outputs": [],
   "source": []
  }
 ],
 "metadata": {
  "kernelspec": {
   "display_name": "Python 3",
   "language": "python",
   "name": "python3"
  },
  "language_info": {
   "codemirror_mode": {
    "name": "ipython",
    "version": 3
   },
   "file_extension": ".py",
   "mimetype": "text/x-python",
   "name": "python",
   "nbconvert_exporter": "python",
   "pygments_lexer": "ipython3",
   "version": "3.6.8"
  }
 },
 "nbformat": 4,
 "nbformat_minor": 2
}
