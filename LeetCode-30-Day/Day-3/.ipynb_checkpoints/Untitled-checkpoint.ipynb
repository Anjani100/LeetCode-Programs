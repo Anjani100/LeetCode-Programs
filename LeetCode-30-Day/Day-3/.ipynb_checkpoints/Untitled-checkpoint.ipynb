{
 "cells": [
  {
   "cell_type": "code",
   "execution_count": 10,
   "metadata": {},
   "outputs": [
    {
     "name": "stdout",
     "output_type": "stream",
     "text": [
      "-1 -2\n",
      "[-3] -3\n"
     ]
    }
   ],
   "source": [
    "nums = [int(i) for i in input().split()]\n",
    "s = []\n",
    "for i in range(len(nums)):\n",
    "    sumn = nums[i]\n",
    "    s.append(sumn)\n",
    "    for j in range(i + 1, len(nums)):\n",
    "        sumn += nums[j]\n",
    "        s.append(sumn)\n",
    "\n",
    "maxi = s[0]\n",
    "for i in range(1, len(s)):\n",
    "    if(s[i] > maxi):\n",
    "        maxi = s[i]\n",
    "print(s, maxi)"
   ]
  },
  {
   "cell_type": "code",
   "execution_count": null,
   "metadata": {},
   "outputs": [],
   "source": [
    "-2 1 -3 4 -1 2 1 -5 4"
   ]
  }
 ],
 "metadata": {
  "kernelspec": {
   "display_name": "Python 3",
   "language": "python",
   "name": "python3"
  },
  "language_info": {
   "codemirror_mode": {
    "name": "ipython",
    "version": 3
   },
   "file_extension": ".py",
   "mimetype": "text/x-python",
   "name": "python",
   "nbconvert_exporter": "python",
   "pygments_lexer": "ipython3",
   "version": "3.6.8"
  }
 },
 "nbformat": 4,
 "nbformat_minor": 2
}
