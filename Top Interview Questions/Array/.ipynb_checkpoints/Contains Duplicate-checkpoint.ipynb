{
 "cells": [
  {
   "cell_type": "code",
   "execution_count": 1,
   "metadata": {},
   "outputs": [
    {
     "name": "stdout",
     "output_type": "stream",
     "text": [
      "1 2 3 4 1\n",
      "False\n",
      "True\n",
      "True\n",
      "True\n"
     ]
    }
   ],
   "source": [
    "nums = [int(i) for i in input().split()]\n",
    "\n",
    "dict = {}\n",
    "\n",
    "for i in nums:\n",
    "    try:\n",
    "        if(dict[i]):\n",
    "            dict[i] += 1\n",
    "    except Exception as e:\n",
    "        dict[i] = 1\n",
    "for i in dict:\n",
    "    if(dict[i] >= 2):\n",
    "        print('False')\n",
    "        break\n",
    "    else:\n",
    "        print('True')"
   ]
  },
  {
   "cell_type": "code",
   "execution_count": null,
   "metadata": {},
   "outputs": [],
   "source": []
  }
 ],
 "metadata": {
  "kernelspec": {
   "display_name": "Python 3",
   "language": "python",
   "name": "python3"
  },
  "language_info": {
   "codemirror_mode": {
    "name": "ipython",
    "version": 3
   },
   "file_extension": ".py",
   "mimetype": "text/x-python",
   "name": "python",
   "nbconvert_exporter": "python",
   "pygments_lexer": "ipython3",
   "version": "3.6.8"
  }
 },
 "nbformat": 4,
 "nbformat_minor": 2
}
