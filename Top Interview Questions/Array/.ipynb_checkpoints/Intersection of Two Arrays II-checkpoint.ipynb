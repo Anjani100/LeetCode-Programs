{
 "cells": [
  {
   "cell_type": "code",
   "execution_count": 2,
   "metadata": {},
   "outputs": [
    {
     "name": "stdout",
     "output_type": "stream",
     "text": [
      "1 2 3 5 4\n",
      "1 5 4 78 9 5 2\n",
      "[1, 5, 4, 78, 9, 5, 2] [1, 2, 3, 5, 4]\n"
     ]
    }
   ],
   "source": [
    "nums1 = [int(i) for i in input().split()]\n",
    "nums2 = [int(i) for i in input().split()]\n",
    "\n",
    "if(len(nums1) > len(nums2)):\n",
    "    p = nums2\n",
    "    q = nums1\n",
    "else:\n",
    "    p = nums1\n",
    "    q = nums2\n",
    "\n",
    "for i in range(len(p)):\n",
    "    for j in range(len(q)):\n",
    "        "
   ]
  },
  {
   "cell_type": "code",
   "execution_count": null,
   "metadata": {},
   "outputs": [],
   "source": []
  }
 ],
 "metadata": {
  "kernelspec": {
   "display_name": "Python 3",
   "language": "python",
   "name": "python3"
  },
  "language_info": {
   "codemirror_mode": {
    "name": "ipython",
    "version": 3
   },
   "file_extension": ".py",
   "mimetype": "text/x-python",
   "name": "python",
   "nbconvert_exporter": "python",
   "pygments_lexer": "ipython3",
   "version": "3.6.8"
  }
 },
 "nbformat": 4,
 "nbformat_minor": 2
}
